{
 "cells": [
  {
   "cell_type": "code",
   "execution_count": 1,
   "metadata": {},
   "outputs": [],
   "source": [
    "import time\n",
    "import numpy as np\n",
    "from godotbridge import GodotBridge\n",
    "\n",
    "class Alpha(GodotBridge):\n",
    "\n",
    "    def stop(self):\n",
    "        self.set(\"set_vr\", 0)\n",
    "        self.set(\"set_vl\", 0)\n",
    "\n",
    "    def move(self, right_vel, left_vel):\n",
    "        self.set(\"set_vr\", right_vel)\n",
    "        self.set(\"set_vl\", left_vel)\n",
    "    def set_pose(self, x, z, a):\n",
    "        self.set(\"set_pose\", x, z, a)\n",
    "    def get_pose(self):\n",
    "        return self.get(\"get_pose\")\n",
    "    def is_running(self) -> bool:\n",
    "        return self.get(\"is_running\")\n",
    "    \n",
    "class Timer:\n",
    "    def start(self, delay):\n",
    "        self.start_time = time.time()\n",
    "        self.delay = delay\n",
    "    def is_elapsed(self):\n",
    "        return (time.time() - self.start_time) > self.delay\n",
    "    \n",
    "class StateMachine:\n",
    "    def __init__(self, states) -> None:\n",
    "        self.states = states\n",
    "        self.activate = False\n",
    "    \n",
    "    def start(self, init_state) -> None:\n",
    "        self.running = True\n",
    "        self.state = init_state\n",
    "        self.once = True\n",
    "        self.new_once = False\n",
    "\n",
    "    def update(self):\n",
    "        self.states[self.state](self.once)\n",
    "        if self.new_once:\n",
    "            self.once = True\n",
    "            self.new_once = False\n",
    "        else:\n",
    "            self.once = False\n",
    "\n",
    "    def set_state(self, name) -> None:\n",
    "        self.state = name\n",
    "        self.new_once = True"
   ]
  },
  {
   "attachments": {},
   "cell_type": "markdown",
   "metadata": {},
   "source": [
    "Connexion avec le robot Alpha"
   ]
  },
  {
   "attachments": {},
   "cell_type": "markdown",
   "metadata": {},
   "source": [
    "Avance du robot"
   ]
  },
  {
   "cell_type": "code",
   "execution_count": 2,
   "metadata": {},
   "outputs": [],
   "source": [
    "# alpha = Alpha(4242)\n",
    "# left_vel = 5\n",
    "# right_vel = 2\n",
    "# alpha.move(right_vel, left_vel)\n",
    "# time.sleep(2)\n",
    "# alpha.stop()"
   ]
  },
  {
   "attachments": {},
   "cell_type": "markdown",
   "metadata": {},
   "source": [
    "Placement du robot"
   ]
  },
  {
   "cell_type": "code",
   "execution_count": 3,
   "metadata": {},
   "outputs": [],
   "source": [
    "# alpha = Alpha(4242)\n",
    "# x = 0\n",
    "# z = 0\n",
    "# a = 45\n",
    "# alpha.set_pose(x, z, a)"
   ]
  },
  {
   "attachments": {},
   "cell_type": "markdown",
   "metadata": {},
   "source": [
    "Essai de tracé de trajectoire"
   ]
  },
  {
   "cell_type": "code",
   "execution_count": 5,
   "metadata": {},
   "outputs": [
    {
     "name": "stdout",
     "output_type": "stream",
     "text": [
      "Game is not running!\n"
     ]
    }
   ],
   "source": [
    "# State functions\n",
    "def pose(once):\n",
    "    if once:\n",
    "        # print(\"init\")\n",
    "        alpha.set_pose(0.1,0,0)\n",
    "    else:\n",
    "        sm.set_state(\"forward\")\n",
    "\n",
    "def forward(once):\n",
    "    if once:\n",
    "        # print(\"forward\")\n",
    "        alpha.move(5, 5)\n",
    "        timer.start(1)\n",
    "    else:\n",
    "        if timer.is_elapsed():\n",
    "            sm.set_state(\"turn_left\")\n",
    "\n",
    "def backward(once):\n",
    "    pass\n",
    "\n",
    "def turn_left(once):\n",
    "    if once:\n",
    "        # print(\"turn left\")\n",
    "        alpha.move(4,-4)\n",
    "        timer.start(1)\n",
    "    if timer.is_elapsed():\n",
    "        sm.set_state(\"forward\")\n",
    "\n",
    "def stop(once):\n",
    "    if once:\n",
    "        # print(\"stop\")\n",
    "        alpha.move(0, 0)\n",
    "    else:\n",
    "        sm.running = False\n",
    "\n",
    "states = {\n",
    "    \"init\": pose,\n",
    "    \"forward\": forward,\n",
    "    \"turn_left\": turn_left,\n",
    "    \"stop\": stop,\n",
    "}\n",
    "\n",
    "timer = Timer()\n",
    "sm = StateMachine(states)\n",
    "alpha = Alpha(4242)\n",
    "if alpha.is_running():\n",
    "    sm.start(\"init\")\n",
    "\n",
    "    while sm.running and alpha.is_running():\n",
    "        sm.update()\n",
    "\n",
    "\n",
    "print(\"Game is not running!\")\n",
    "alpha.stop()"
   ]
  }
 ],
 "metadata": {
  "kernelspec": {
   "display_name": "Python 3",
   "language": "python",
   "name": "python3"
  },
  "language_info": {
   "codemirror_mode": {
    "name": "ipython",
    "version": 3
   },
   "file_extension": ".py",
   "mimetype": "text/x-python",
   "name": "python",
   "nbconvert_exporter": "python",
   "pygments_lexer": "ipython3",
   "version": "3.10.7"
  },
  "orig_nbformat": 4
 },
 "nbformat": 4,
 "nbformat_minor": 2
}
