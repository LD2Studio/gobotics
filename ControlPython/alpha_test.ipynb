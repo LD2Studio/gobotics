{
 "cells": [
  {
   "cell_type": "code",
   "execution_count": 5,
   "metadata": {},
   "outputs": [],
   "source": [
    "import numpy as np\n",
    "from gobotics.robots import Alpha\n",
    "from gobotics.helper import Timer, StateMachine"
   ]
  },
  {
   "cell_type": "code",
   "execution_count": 6,
   "metadata": {},
   "outputs": [
    {
     "name": "stdout",
     "output_type": "stream",
     "text": [
      "Game is not running!\n"
     ]
    }
   ],
   "source": [
    "# State functions\n",
    "def pose(once):\n",
    "    if once:\n",
    "        # print(\"init\")\n",
    "        alpha.set_pose(0.1,0,0)\n",
    "    else:\n",
    "        sm.to(\"forward\")\n",
    "\n",
    "def forward(once):\n",
    "    if once:\n",
    "        # print(\"forward\")\n",
    "        alpha.move(5, 5)\n",
    "        timer.start(1)\n",
    "    else:\n",
    "        if timer.is_elapsed():\n",
    "            sm.to(\"turn_left\")\n",
    "\n",
    "def backward(once):\n",
    "    pass\n",
    "\n",
    "def turn_left(once):\n",
    "    if once:\n",
    "        # print(\"turn left\")\n",
    "        alpha.move(4,-4)\n",
    "        timer.start(1)\n",
    "    if timer.is_elapsed():\n",
    "        sm.to(\"forward\")\n",
    "\n",
    "def stop(once):\n",
    "    if once:\n",
    "        # print(\"stop\")\n",
    "        alpha.move(0, 0)\n",
    "    else:\n",
    "        sm.running = False\n",
    "\n",
    "states = {\n",
    "    \"init\": pose,\n",
    "    \"forward\": forward,\n",
    "    \"turn_left\": turn_left,\n",
    "    \"stop\": stop,\n",
    "}\n",
    "\n",
    "timer = Timer()\n",
    "sm = StateMachine(states)\n",
    "alpha = Alpha(4242)\n",
    "if alpha.is_running():\n",
    "    sm.start(\"init\")\n",
    "\n",
    "    while sm.running and alpha.is_running():\n",
    "        sm.update()\n",
    "\n",
    "\n",
    "print(\"Game is not running!\")\n",
    "alpha.stop()"
   ]
  }
 ],
 "metadata": {
  "kernelspec": {
   "display_name": "Python 3",
   "language": "python",
   "name": "python3"
  },
  "language_info": {
   "codemirror_mode": {
    "name": "ipython",
    "version": 3
   },
   "file_extension": ".py",
   "mimetype": "text/x-python",
   "name": "python",
   "nbconvert_exporter": "python",
   "pygments_lexer": "ipython3",
   "version": "3.10.7"
  },
  "orig_nbformat": 4
 },
 "nbformat": 4,
 "nbformat_minor": 2
}
